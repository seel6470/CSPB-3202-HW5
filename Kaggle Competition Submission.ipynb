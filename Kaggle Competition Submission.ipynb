{
 "cells": [
  {
   "cell_type": "markdown",
   "id": "404b9560-b429-453b-baa2-e1a09845d3b0",
   "metadata": {},
   "source": [
    "# HW5 Kaggle competition\n",
    "\n",
    "Participate this Kaggle competition: Histopathologic Cancer Detection\n",
    "https://www.kaggle.com/c/histopathologic-cancer-detection/overview\n",
    "\n",
    "After submitting the result, please submit a report and supporting material.\n",
    "You can submit as improve your results as many times as you want before the homework due.  The iterative process take time, so to get a better quality results and report, please start early. The grades are more based on the quality and depth of the analysis not just on a better kaggle score.\n",
    "\n",
    "Your report should include\n",
    "1. brief description of the problem, data (e.g. size and dimension, structure etc)\n",
    "2. Exploratory data analysis showing a few visualization, histogram, etc, and a plan of analysis. Any data cleaning procedure.\n",
    "3. You model architecture and reasoning why you believe certain architecture would be suitable for this problem\n",
    "4. results (tables, figures etc) and analysis (reasoning of why or why not something worked well, also troubleshooting and hyperparameter optimization procedure summary)\n",
    "5. your conclusion.\n",
    "\n",
    "[Deliverables- submission guide]\n",
    "1. Submit your report in moodle HW5 submission box. Your report should be in .pdf format. (you can print out your notebook if you prefer)\n",
    "Besides above report contents, your report also should include,\n",
    "Please include the url to your git (github or similar, your repo needs to be public so that I can see) in your report.\n",
    "Please include the screenshot of your leaderboard position/score.\n",
    "Importantly, your name at the top :)\n",
    "2. Upload your material such as notebook/codes/scripts to your git repository (please do not upload big files such as data)\n",
    "\n",
    "[Using online references]\n",
    "Kaggle competition is not only a tool for datascience challenges and practice, but also a great tool to learn and share skills and tips. In the kernel, there are several notebooks that people shared. Feel free to refer them, but please cite them properly. Also please keep in mind that you need to do more than what's available in those in order to get scores. "
   ]
  },
  {
   "cell_type": "markdown",
   "id": "9d29d348-9b75-43ef-91a8-09fcbf30dd44",
   "metadata": {},
   "source": [
    "**[Git URL]()**"
   ]
  },
  {
   "cell_type": "markdown",
   "id": "6b93f56c-2235-4927-9bc6-cf2eb3925368",
   "metadata": {},
   "source": [
    "## Final Submission Screenshot:\n",
    "\n",
    "![image](./Screenshot%202024-08-01%20151900.png)"
   ]
  },
  {
   "cell_type": "markdown",
   "id": "ee8e59a3-02a2-44d3-8c03-1d58ee905429",
   "metadata": {},
   "source": [
    "## Description\n",
    "\n",
    "*brief description of the problem, data (e.g. size and dimension, structure etc)*"
   ]
  },
  {
   "cell_type": "markdown",
   "id": "51ee6f69-0aea-428e-a119-70dd745a93d8",
   "metadata": {},
   "source": [
    "## Exploratory Data Analysis\n",
    "\n",
    "*Exploratory data analysis showing a few visualization, histogram, etc, and a plan of analysis. Any data cleaning procedure.*"
   ]
  },
  {
   "cell_type": "markdown",
   "id": "a3c3fa7f-6078-471c-aea8-a1f5f946c3c7",
   "metadata": {},
   "source": [
    "## Model Architecture\n",
    "\n",
    "*You model architecture and reasoning why you believe certain architecture would be suitable for this problem*"
   ]
  },
  {
   "cell_type": "markdown",
   "id": "a6e98a94-f560-42f9-8d15-5d258783d0b4",
   "metadata": {},
   "source": [
    "## Results\n",
    "\n",
    "*results (tables, figures etc) and analysis (reasoning of why or why not something worked well, also troubleshooting and hyperparameter optimization procedure summary)*"
   ]
  },
  {
   "cell_type": "markdown",
   "id": "56211e8c-d4ee-4332-bbde-92efd25eaf6a",
   "metadata": {},
   "source": [
    "## Conclusion"
   ]
  }
 ],
 "metadata": {
  "kernelspec": {
   "display_name": "Python 3 (ipykernel)",
   "language": "python",
   "name": "python3"
  },
  "language_info": {
   "codemirror_mode": {
    "name": "ipython",
    "version": 3
   },
   "file_extension": ".py",
   "mimetype": "text/x-python",
   "name": "python",
   "nbconvert_exporter": "python",
   "pygments_lexer": "ipython3",
   "version": "3.10.8"
  }
 },
 "nbformat": 4,
 "nbformat_minor": 5
}
