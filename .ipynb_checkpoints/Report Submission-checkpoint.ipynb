{
 "cells": [
  {
   "cell_type": "markdown",
   "id": "404b9560-b429-453b-baa2-e1a09845d3b0",
   "metadata": {},
   "source": [
    "# HW5 Kaggle competition\n",
    "\n",
    "Participate this Kaggle competition: Histopathologic Cancer Detection\n",
    "https://www.kaggle.com/c/histopathologic-cancer-detection/overview\n",
    "\n",
    "After submitting the result, please submit a report and supporting material.\n",
    "You can submit as improve your results as many times as you want before the homework due.  The iterative process take time, so to get a better quality results and report, please start early. The grades are more based on the quality and depth of the analysis not just on a better kaggle score.\n",
    "\n",
    "Your report should include\n",
    "1. brief description of the problem, data (e.g. size and dimension, structure etc)\n",
    "2. Exploratory data analysis showing a few visualization, histogram, etc, and a plan of analysis. Any data cleaning procedure.\n",
    "3. You model architecture and reasoning why you believe certain architecture would be suitable for this problem\n",
    "4. results (tables, figures etc) and analysis (reasoning of why or why not something worked well, also troubleshooting and hyperparameter optimization procedure summary)\n",
    "5. your conclusion.\n",
    "\n",
    "[Deliverables- submission guide]\n",
    "1. Submit your report in moodle HW5 submission box. Your report should be in .pdf format. (you can print out your notebook if you prefer)\n",
    "Besides above report contents, your report also should include,\n",
    "Please include the url to your git (github or similar, your repo needs to be public so that I can see) in your report.\n",
    "Please include the screenshot of your leaderboard position/score.\n",
    "Importantly, your name at the top :)\n",
    "2. Upload your material such as notebook/codes/scripts to your git repository (please do not upload big files such as data)\n",
    "\n",
    "[Using online references]\n",
    "Kaggle competition is not only a tool for datascience challenges and practice, but also a great tool to learn and share skills and tips. In the kernel, there are several notebooks that people shared. Feel free to refer them, but please cite them properly. Also please keep in mind that you need to do more than what's available in those in order to get scores. "
   ]
  },
  {
   "cell_type": "markdown",
   "id": "9d29d348-9b75-43ef-91a8-09fcbf30dd44",
   "metadata": {},
   "source": [
    "**The Git Repository for this project can be found at [https://github.com/seel6470/CSPB-3202-HW5](https://github.com/seel6470/CSPB-3202-HW5)**"
   ]
  },
  {
   "cell_type": "markdown",
   "id": "6b93f56c-2235-4927-9bc6-cf2eb3925368",
   "metadata": {},
   "source": [
    "## Final Submission Screenshot:\n",
    "\n",
    "![image](./images/Screenshot%202024-08-01%20151900.png)"
   ]
  },
  {
   "cell_type": "markdown",
   "id": "ee8e59a3-02a2-44d3-8c03-1d58ee905429",
   "metadata": {},
   "source": [
    "## Description\n",
    "\n",
    "*brief description of the problem, data (e.g. size and dimension, structure etc)*\n",
    "\n",
    "The Histopathologic Cancer Detection Kaggle competition (located at https://www.kaggle.com/c/histopathologic-cancer-detection/overview ) seeks to create a machine learning algorithm that can detect a cancer cell given a pathology image of tumor tissue. The problem itsel is a __binary classification problem__ with either a negative of positive prognosis. \n",
    "\n",
    "Furthermore, in the data description, it is specified that the center 32 x 32 pixel region of the image must contain at least one pixel of tumor tissue in order to be a positive prognosis.\n",
    "\n",
    "The data is contained in a file structure of the data contains two directories, `train` and `test`\n",
    "\n",
    "The `train` directory contains 220,025 tif images while the `test` directory contains 57,458 tif images.\n",
    "\n",
    "<pre>\n",
    "\n",
    "data/\n",
    "├── train/\n",
    "    ├── 0000d563d5cfafc4e68acb7c9829258a298d9b6a.tif\n",
    "    ├── 0000da768d06b879e5754c43e2298ce48726f722.tif\n",
    "    ├── 0000f8a4da4c286eee5cf1b0d2ab82f979989f7b.tif\n",
    "    ...\n",
    "├── test/\n",
    "    ├── 0000ec92553fda4ce39889f9226ace43cae3364e.tif\n",
    "    ├── 000c8db3e09f1c0f3652117cf84d78aae100e5a7.tif\n",
    "    ├── 000de14191f3bab4d2d6a7384ca0e5aa5dc0dffe.tif\n",
    "    ...\n",
    "└──\n",
    "</pre>\n",
    "\n",
    "Each file represents a color 96 x 96 image with each pixel represented as a 24 bit RGB value.\n",
    "\n",
    "The classification of all images is contained in a csv file labeled train_labels.csv with two columns, \"id\" and \"label\"\n",
    "\n",
    "The \"id\" column represents the filename (without file extension) which would be a categorical nominal data type since it represents a value with no order or ranking, while the \"label\" column represents the binary classification 0 or 1, which would also be considered categorical nominal data as well.\n",
    "\n"
   ]
  },
  {
   "cell_type": "markdown",
   "id": "51ee6f69-0aea-428e-a119-70dd745a93d8",
   "metadata": {},
   "source": [
    "## Exploratory Data Analysis\n",
    "\n",
    "*Exploratory data analysis showing a few visualization, histogram, etc, and a plan of analysis. Any data cleaning procedure.*\n",
    "\n",
    "It would be helpful to determine if all images have a consistent resolution, or if there may be differing image sizes. It is challenging to do so efficiently, due to the size of the data set, but creating a subset of the images and determining the resolution sizes of the images may provide more clarity.\n",
    "\n",
    "> __Note:__ Due to the size of the data set, I chose to work in a local environment, downloading all images to a local directory and running my scripts from the command line. The following code may not be executable in this notebook, but the outputs received in my local environment are shown after each code block."
   ]
  },
  {
   "cell_type": "markdown",
   "id": "71cbf4c8-10e0-4c27-a0fe-f1cd10513f72",
   "metadata": {},
   "source": [
    "\n",
    "```python\n",
    "import pandas as pd\n",
    "import matplotlib as plt\n",
    "import os\n",
    "from PIL import Image\n",
    "import matplotlib.pyplot as plt\n",
    "\n",
    "data = pd.read_csv('train_labels.csv', dtype=str)\n",
    "\n",
    "data['id'] = data['id'] + '.tif'  # Add file extension\n",
    "\n",
    "# Select a random subset of 256 images\n",
    "subset = data.sample(n=256, random_state=1975)\n",
    "\n",
    "train_directory = './train'\n",
    "\n",
    "# Create lists to store image widths and heights\n",
    "widths = []\n",
    "heights = []\n",
    "\n",
    "# Iterate over the subset to get image dimensions\n",
    "for image_file in subset['id']:\n",
    "    image_path = os.path.join(train_directory, image_file)\n",
    "    if os.path.exists(image_path):\n",
    "        with Image.open(image_path) as img:\n",
    "            width, height = img.size\n",
    "            widths.append(width)\n",
    "            heights.append(height)\n",
    "    else:\n",
    "        print(f\"Image file {image_file} does not exist.\")\n",
    "\n",
    "# Plot Histogram for Widths\n",
    "plt.figure(figsize=(12, 6))\n",
    "plt.hist(widths, bins=20, color='skyblue', edgecolor='black')\n",
    "plt.xlabel('Width (pixels)')\n",
    "plt.ylabel('Number of Images')\n",
    "plt.title('Histogram of Image Widths for 256 Random Samples')\n",
    "plt.tight_layout()\n",
    "plt.savefig('image_widths_histogram.png')\n",
    "\n",
    "# Plot Histogram for Heights\n",
    "plt.figure(figsize=(12, 6))\n",
    "plt.hist(heights, bins=20, color='salmon', edgecolor='black')\n",
    "plt.xlabel('Height (pixels)')\n",
    "plt.ylabel('Number of Images')\n",
    "plt.title('Histogram of Image Heights for 256 Random Samples')\n",
    "plt.tight_layout()\n",
    "plt.savefig('image_heights_histogram.png')\n",
    "```"
   ]
  },
  {
   "cell_type": "markdown",
   "id": "55c61341-9001-4f14-9e9b-dc3490334be9",
   "metadata": {},
   "source": [
    "![image](./images/image_heights_histogram.png)\n",
    "\n",
    "![image](./images/image_widths_histogram.png)"
   ]
  },
  {
   "cell_type": "markdown",
   "id": "1c63ae66-a872-4780-96fc-528640975570",
   "metadata": {},
   "source": [
    "As we can see, the resolution sizes for the random sample is exclusively 96 x 96 x 96. This is helpful, since we will need to create a way to crop the center 32 x 32 pixels given the data description on Kaggle, and the uniformity of the image size will ensure that the center will exist in the same location for all images. We can further confirm this by outputting several random images:\n",
    "\n",
    "```python\n",
    "# get 4 random images\n",
    "subset = data.sample(n=4, random_state=1975)\n",
    "\n",
    "train_directory = './train'\n",
    "\n",
    "# Create a figure to plot the images\n",
    "plt.figure(figsize=(10, 10))\n",
    "\n",
    "# Initialize index\n",
    "index = 1\n",
    "\n",
    "# Plot and save each image\n",
    "for image_file in subset['id']:\n",
    "    image_path = os.path.join(train_directory, image_file)\n",
    "    if os.path.exists(image_path):\n",
    "        with Image.open(image_path) as img:\n",
    "            plt.subplot(2, 2, index)  # Use index to determine subplot position\n",
    "            plt.imshow(img)\n",
    "            plt.title(f'Image {index}')\n",
    "            plt.axis('off')  # Turn off axis\n",
    "            index += 1\n",
    "    else:\n",
    "        print(f\"Image file {image_file} does not exist.\")\n",
    "\n",
    "# Save the plot\n",
    "plt.tight_layout()\n",
    "plt.savefig('sample_images.png')\n",
    "```"
   ]
  },
  {
   "cell_type": "markdown",
   "id": "dd959071-01a1-47fd-9add-071582e730f6",
   "metadata": {},
   "source": [
    "![image](./images/sample_images.png)"
   ]
  },
  {
   "cell_type": "markdown",
   "id": "529293e0-baf3-477b-94da-cdc3a3c9ffc8",
   "metadata": {},
   "source": [
    "Additionally, it would be helpful to know what distribution of labels we have in our training data. We would hope to see an equal amount of binary classifications to avoid bias in our model, however it would be beneficial to understand our data if the distribution is otherwise.\n",
    "```python\n",
    "import pandas as pd\n",
    "import matplotlib as plt\n",
    "import os\n",
    "from PIL import Image\n",
    "import matplotlib.pyplot as plt\n",
    "\n",
    "data = pd.read_csv('train_labels.csv', dtype=str)\n",
    "\n",
    "label_counts = data['label'].value_counts()\n",
    "\n",
    "plt.figure(figsize=(8, 8))\n",
    "plt.pie(label_counts, labels=label_counts.index, autopct='%1.1f%%', colors=['skyblue', 'salmon'])\n",
    "plt.title('Distribution of Binary Labels (0 and 1)')\n",
    "plt.tight_layout()\n",
    "\n",
    "# Save and show the pie chart\n",
    "plt.savefig('binary_labels_pie_chart.png')\n",
    "```"
   ]
  },
  {
   "cell_type": "markdown",
   "id": "43eeb882-6b69-4e9c-8d4f-1dc31e933d32",
   "metadata": {},
   "source": [
    "![image](./images/binary_labels_pie_chart.png)"
   ]
  },
  {
   "cell_type": "markdown",
   "id": "9462f338-2fd9-49bc-8ee0-dd171eac7390",
   "metadata": {},
   "source": [
    "We can see that we have more negative than positive prognosis images in our training set. Given the large size of the data set, this should not cause too much of an issue. If there was a higher class imbalance (say 90/10) there would be cause for concern, however we want to make sure we watch out to see if the model learns that it is more accurate to predict 0 than 1 given the current imbalance. Because of this, we may seek to use other metrics than accuracy, such as the area under the ROC curve."
   ]
  },
  {
   "cell_type": "markdown",
   "id": "a3c3fa7f-6078-471c-aea8-a1f5f946c3c7",
   "metadata": {},
   "source": [
    "## Model Architecture\n",
    "\n",
    "*You model architecture and reasoning why you believe certain architecture would be suitable for this problem*"
   ]
  },
  {
   "cell_type": "markdown",
   "id": "a6e98a94-f560-42f9-8d15-5d258783d0b4",
   "metadata": {
    "jp-MarkdownHeadingCollapsed": true,
    "tags": []
   },
   "source": [
    "## Results\n",
    "\n",
    "*results (tables, figures etc) and analysis (reasoning of why or why not something worked well, also troubleshooting and hyperparameter optimization procedure summary)*"
   ]
  },
  {
   "cell_type": "markdown",
   "id": "56211e8c-d4ee-4332-bbde-92efd25eaf6a",
   "metadata": {},
   "source": [
    "## Conclusion"
   ]
  }
 ],
 "metadata": {
  "kernelspec": {
   "display_name": "Python 3 (ipykernel)",
   "language": "python",
   "name": "python3"
  },
  "language_info": {
   "codemirror_mode": {
    "name": "ipython",
    "version": 3
   },
   "file_extension": ".py",
   "mimetype": "text/x-python",
   "name": "python",
   "nbconvert_exporter": "python",
   "pygments_lexer": "ipython3",
   "version": "3.10.8"
  }
 },
 "nbformat": 4,
 "nbformat_minor": 5
}
